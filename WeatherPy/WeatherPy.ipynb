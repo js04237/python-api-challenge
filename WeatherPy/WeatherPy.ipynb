{
 "cells": [
  {
   "cell_type": "markdown",
   "metadata": {},
   "source": [
    "# WeatherPy\n",
    "----\n",
    "\n",
    "#### Note\n",
    "* Instructions have been included for each segment. You do not have to follow them exactly, but they are included to help you think through the steps."
   ]
  },
  {
   "cell_type": "code",
   "execution_count": null,
   "metadata": {
    "scrolled": true
   },
   "outputs": [],
   "source": [
    "# Dependencies and Setup\n",
    "import matplotlib.pyplot as plt\n",
    "import pandas as pd\n",
    "import numpy as np\n",
    "import requests\n",
    "import time\n",
    "from scipy.stats import linregress\n",
    "import json\n",
    "import os\n",
    "\n",
    "# Import API key\n",
    "from api_keys import weather_api_key\n",
    "\n",
    "# Incorporated citipy to determine city based on latitude and longitude\n",
    "from citipy import citipy\n",
    "\n",
    "# Output File (CSV)\n",
    "output_data_file = \"output_data/cities.csv\"\n",
    "\n",
    "# Range of latitudes and longitudes\n",
    "lat_range = (-90, 90)\n",
    "lng_range = (-180, 180)"
   ]
  },
  {
   "cell_type": "markdown",
   "metadata": {},
   "source": [
    "## Generate Cities List"
   ]
  },
  {
   "cell_type": "code",
   "execution_count": null,
   "metadata": {},
   "outputs": [],
   "source": [
    "# List for holding lat_lngs and cities\n",
    "lat_lngs = []\n",
    "search_cities = []\n",
    "\n",
    "# Create a set of random lat and lng combinations\n",
    "lats = np.random.uniform(lat_range[0], lat_range[1], size=1500)\n",
    "lngs = np.random.uniform(lng_range[0], lng_range[1], size=1500)\n",
    "lat_lngs = zip(lats, lngs)\n",
    "\n",
    "# Identify nearest city for each lat, lng combination\n",
    "for lat_lng in lat_lngs:\n",
    "    city = citipy.nearest_city(lat_lng[0], lat_lng[1]).city_name\n",
    "    \n",
    "    # If the city is unique, then add it to a our cities list\n",
    "    if city not in search_cities:\n",
    "        search_cities.append(city)\n",
    "\n",
    "# Print the city count to confirm sufficient count\n",
    "len(search_cities)"
   ]
  },
  {
   "cell_type": "markdown",
   "metadata": {},
   "source": [
    "### Perform API Calls\n",
    "* Perform a weather check on each city using a series of successive API calls.\n",
    "* Include a print log of each city as it'sbeing processed (with the city number and city name).\n"
   ]
  },
  {
   "cell_type": "code",
   "execution_count": null,
   "metadata": {},
   "outputs": [],
   "source": [
    "# Save config information.\n",
    "units = \"metric\"\n",
    "url = (f\"http://api.openweathermap.org/data/2.5/weather?appid={weather_api_key}&units={units}&q=\")"
   ]
  },
  {
   "cell_type": "code",
   "execution_count": null,
   "metadata": {},
   "outputs": [],
   "source": [
    "# Set up lists to hold reponse info\n",
    "city = []\n",
    "lat = []\n",
    "lng = []\n",
    "max_temp = []\n",
    "humidity = []\n",
    "cloudiness = []\n",
    "wind_speed = []\n",
    "country = []\n",
    "date = []\n",
    "# Counter for records found\n",
    "record_count = 0\n",
    "# Counter for processing records\n",
    "i = 0\n",
    "\n",
    "print(\"Beginning Data Retrieval\")\n",
    "print(\"-----------------------------\")\n",
    "\n",
    "# Loop through the list of cities and perform a request for data on each\n",
    "for cities in search_cities:\n",
    "    i = i + 1\n",
    "    query = url + cities\n",
    "    response = requests.get(query).json()\n",
    "    try:\n",
    "        city.append(response['name'])\n",
    "        lat.append(response['coord']['lat'])\n",
    "        lng.append(response['coord']['lon'])\n",
    "        max_temp.append(response['main']['temp_max'])\n",
    "        humidity.append(response['main']['humidity'])\n",
    "        cloudiness.append(response['clouds']['all'])\n",
    "        wind_speed.append(response['wind']['speed'])\n",
    "        country.append(response['sys']['country'])\n",
    "        date.append(response['dt'])\n",
    "        record_count = record_count + 1\n",
    "        print(f\"Processing record {i} | {search_cities[i]}\")\n",
    "    except:\n",
    "        print(f\"City not found. Skipping...\")\n",
    "print(f\"Data for {record_count} cities has been retrieved.\")"
   ]
  },
  {
   "cell_type": "markdown",
   "metadata": {},
   "source": [
    "### Convert Raw Data to DataFrame\n",
    "* Export the city data into a .csv.\n",
    "* Display the DataFrame"
   ]
  },
  {
   "cell_type": "code",
   "execution_count": null,
   "metadata": {},
   "outputs": [],
   "source": [
    "# Create the DataFrame\n",
    "city_data = {\"City\": city, \"Country\": country, \"Lat\": lat, \"Long\": lng, \"Max Temp\": max_temp, \n",
    "             \"Humidity\": humidity, \"Cloudiness\": cloudiness, \"Wind Speed\": wind_speed, \"Date\": date\n",
    "            }\n",
    "city_df = pd.DataFrame(city_data)\n",
    "\n",
    "# Save the DataFrame to .csv\n",
    "city_df.to_csv(\"output_data\\cities.csv\")\n",
    "\n",
    "# Show the first 5 lines of the DataFrame\n",
    "city_df.head()"
   ]
  },
  {
   "cell_type": "markdown",
   "metadata": {},
   "source": [
    "## Inspect the data and remove the cities where the humidity > 100%.\n",
    "----\n",
    "Skip this step if there are no cities that have humidity > 100%. "
   ]
  },
  {
   "cell_type": "code",
   "execution_count": null,
   "metadata": {},
   "outputs": [],
   "source": [
    "clean_df = city_df.loc[(city_df[\"Humidity\"] <= 100)]\n",
    "clean_df\n",
    "# No cities in the DataFrame have > 100 % humidity"
   ]
  },
  {
   "cell_type": "markdown",
   "metadata": {},
   "source": [
    "## Plotting the Data\n",
    "* Use proper labeling of the plots using plot titles (including date of analysis) and axes labels.\n",
    "* Save the plotted figures as .pngs."
   ]
  },
  {
   "cell_type": "markdown",
   "metadata": {},
   "source": [
    "## Latitude vs. Temperature Plot"
   ]
  },
  {
   "cell_type": "code",
   "execution_count": null,
   "metadata": {},
   "outputs": [],
   "source": [
    "# Define axes\n",
    "x_latvtemp = list(clean_df[\"Lat\"])\n",
    "y_latvtemp = list(clean_df[\"Max Temp\"])\n",
    "\n",
    "# Plot setup\n",
    "plt.scatter(x_latvtemp, y_latvtemp, color = 'lightblue', edgecolors='black')\n",
    "plt.xlabel(\"Latitude\")\n",
    "plt.ylabel(\"Max Temperature (C)\")\n",
    "plt.title(\"City Latitude vs. Max Temperature (07/24/20)\")\n",
    "plt.grid()\n",
    "plt.show()"
   ]
  },
  {
   "cell_type": "markdown",
   "metadata": {},
   "source": [
    "## Latitude vs. Humidity Plot"
   ]
  },
  {
   "cell_type": "code",
   "execution_count": null,
   "metadata": {},
   "outputs": [],
   "source": [
    "# Define axes\n",
    "x_latvhumidity = list(clean_df[\"Lat\"])\n",
    "y_latvhumidity = list(clean_df[\"Humidity\"])\n",
    "\n",
    "# Plot setup\n",
    "plt.scatter(x_latvhumidity, y_latvhumidity, color = 'lightgreen', edgecolors='black')\n",
    "plt.xlabel(\"Latitude\")\n",
    "plt.ylabel(\"Humidity (%)\")\n",
    "plt.title(\"City Latitude vs. Humidity (07/24/20)\")\n",
    "plt.grid()\n",
    "plt.show()"
   ]
  },
  {
   "cell_type": "markdown",
   "metadata": {},
   "source": [
    "## Latitude vs. Cloudiness Plot"
   ]
  },
  {
   "cell_type": "code",
   "execution_count": null,
   "metadata": {},
   "outputs": [],
   "source": [
    "# Define axes\n",
    "x_latvclouds = list(clean_df[\"Lat\"])\n",
    "y_latvclouds = list(clean_df[\"Cloudiness\"])\n",
    "\n",
    "# Plot setup\n",
    "plt.scatter(x_latvclouds, y_latvclouds, color = 'aqua', edgecolors='black')\n",
    "plt.xlabel(\"Latitude\")\n",
    "plt.ylabel(\"Cloudiness\")\n",
    "plt.title(\"City Latitude vs. Cloudiness (07/24/20)\")\n",
    "plt.grid()\n",
    "plt.show()"
   ]
  },
  {
   "cell_type": "markdown",
   "metadata": {},
   "source": [
    "## Latitude vs. Wind Speed Plot"
   ]
  },
  {
   "cell_type": "code",
   "execution_count": null,
   "metadata": {},
   "outputs": [],
   "source": [
    "# Define axes\n",
    "x_latvwind = list(clean_df[\"Lat\"])\n",
    "y_latvwind = list(clean_df[\"Wind Speed\"])\n",
    "\n",
    "# Plot setup\n",
    "plt.scatter(x_latvwind, y_latvwind, color = 'pink', edgecolors='black')\n",
    "plt.xlabel(\"Latitude\")\n",
    "plt.ylabel(\"Cloudiness\")\n",
    "plt.title(\"City Latitude vs. Wind Speed (07/24/20)\")\n",
    "plt.grid()\n",
    "plt.show()"
   ]
  },
  {
   "cell_type": "markdown",
   "metadata": {},
   "source": [
    "## Linear Regression"
   ]
  },
  {
   "cell_type": "code",
   "execution_count": null,
   "metadata": {},
   "outputs": [],
   "source": [
    "# Create bins for the data\n",
    "bins = [-90, 0, 90]\n",
    "bin_names = [\"Southern\", \"Northern\"]\n",
    "bin_df = clean_df\n",
    "bin_df[\"Hemisphere\"] = pd.cut(bin_df[\"Lat\"], bins, labels=bin_names, include_lowest=True)\n",
    "bin_df.head()"
   ]
  },
  {
   "cell_type": "code",
   "execution_count": null,
   "metadata": {},
   "outputs": [],
   "source": [
    "# Create lists to hold y axis data (for plotting)\n",
    "lat_list = []\n",
    "Max_Temp = []\n",
    "Humidity = []\n",
    "Cloudiness = []\n",
    "Wind_Speed = []\n",
    "\n",
    "# Create a list of y axis names\n",
    "y_list = [\"Max_Temp\", \"Humidity\", \"Cloudiness\", \"Wind_Speed\"]\n",
    "\n",
    "# Loop to separate data into regions\n",
    "for bins in bin_names: \n",
    "\n",
    "    # Return lat coordinates for a region\n",
    "    lat_list = bin_df.loc[bin_df[\"Hemisphere\"] == bins,\"Lat\"]\n",
    "\n",
    "    # Loop again to get data for each criteria per region\n",
    "    for y in y_list:\n",
    "        if y == \"Max_Temp\":\n",
    "            temp_list = bin_df.loc[bin_df[\"Hemisphere\"] == bins,\"Max Temp\"]\n",
    "        elif y == \"Humidity\":\n",
    "            humid_list = bin_df.loc[bin_df[\"Hemisphere\"] == bins,\"Humidity\"]\n",
    "        elif y == \"Cloudiness\":\n",
    "            cloud_list = bin_df.loc[bin_df[\"Hemisphere\"] == bins,\"Cloudiness\"]\n",
    "        elif y == \"Wind_Speed\":\n",
    "            wind_list = bin_df.loc[bin_df[\"Hemisphere\"] == bins,\"Wind Speed\"]\n",
    "    \n",
    "    # Now that lists are complete, loop again to create plots\n",
    "    for y in y_list:\n",
    "        \n",
    "        # Define x axis\n",
    "        x_axis = lat_list\n",
    "        \n",
    "        # Define y axis\n",
    "        if y == \"Max_Temp\":\n",
    "            y_axis = temp_list\n",
    "        elif y == \"Humidity\":\n",
    "            y_axis = humid_list\n",
    "        elif y == \"Cloudiness\":\n",
    "            y_axis = cloud_list\n",
    "        elif y == \"Wind_Speed\":\n",
    "            y_axis = wind_list\n",
    "\n",
    "        # Plot setup\n",
    "        plt.scatter(x_axis, y_axis, color = 'lightgreen', edgecolors='black')\n",
    "        plt.xlabel(\"Latitude\")\n",
    "        plt.ylabel(y)\n",
    "        plt.title(f\"City Latitude vs. {y} in the {bins} Hemisphere (07/24/20)\")\n",
    "        plt.grid()\n",
    "\n",
    "        # Do linear regression\n",
    "        (slope, intercept, rvalue, pvalue, stderr) = linregress(x_axis, y_axis)\n",
    "        regress_values = x_axis * slope + intercept\n",
    "        plt.plot(x_axis, regress_values, \"r-\")\n",
    "        line_eq = \"y = \" + str(round(slope,2)) + \"x + \" + str(round(intercept,2))\n",
    "        rsq = round(x_axis.corr(y_axis)**2,2)\n",
    "        if bins == \"Southern\":\n",
    "            plt.annotate(line_eq,(-55, 8),fontsize=15,color=\"red\")\n",
    "        elif bins == \"Northern\":\n",
    "            plt.annotate(line_eq,(6, 10),fontsize=15,color=\"red\")\n",
    "        print(f\"The r-squared is: {rsq}\")\n",
    "        plt.savefig(f\"output_data\\{bins}_Hemisphere_{y}.png\")\n",
    "        plt.show()"
   ]
  }
 ],
 "metadata": {
  "anaconda-cloud": {},
  "kernel_info": {
   "name": "python3"
  },
  "kernelspec": {
   "display_name": "Python [conda env:PythonData] *",
   "language": "python",
   "name": "conda-env-PythonData-py"
  },
  "language_info": {
   "codemirror_mode": {
    "name": "ipython",
    "version": 3
   },
   "file_extension": ".py",
   "mimetype": "text/x-python",
   "name": "python",
   "nbconvert_exporter": "python",
   "pygments_lexer": "ipython3",
   "version": "3.6.10"
  },
  "latex_envs": {
   "LaTeX_envs_menu_present": true,
   "autoclose": false,
   "autocomplete": true,
   "bibliofile": "biblio.bib",
   "cite_by": "apalike",
   "current_citInitial": 1,
   "eqLabelWithNumbers": true,
   "eqNumInitial": 1,
   "hotkeys": {
    "equation": "Ctrl-E",
    "itemize": "Ctrl-I"
   },
   "labels_anchors": false,
   "latex_user_defs": false,
   "report_style_numbering": false,
   "user_envs_cfg": false
  },
  "nteract": {
   "version": "0.12.3"
  }
 },
 "nbformat": 4,
 "nbformat_minor": 2
}
